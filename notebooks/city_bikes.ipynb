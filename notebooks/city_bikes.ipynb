{
 "cells": [
  {
   "cell_type": "markdown",
   "metadata": {},
   "source": [
    "# CityBikes"
   ]
  },
  {
   "cell_type": "markdown",
   "metadata": {},
   "source": [
    "Send a request to CityBikes for the city of your choice. "
   ]
  },
  {
   "cell_type": "code",
   "execution_count": 29,
   "metadata": {},
   "outputs": [],
   "source": [
    "import requests\n",
    "import pandas as pd\n",
    "\n",
    "url = f\"http://api.citybik.es/v2/networks/toronto\"\n",
    "\n",
    "response = requests.get(url)\n",
    "\n",
    "if response.status_code == 200:\n",
    "    city_data = response.json()\n",
    "    \n",
    "    if 'network' in city_data:\n",
    "        city_network = city_data['network']\n",
    "        city_api_endpoint = city_network.get('href', '')\n",
    "\n",
    "        if 'stations' in city_network:\n",
    "            station_data = city_network['stations']\n",
    "            df = pd.DataFrame(station_data)\n",
    "# df\n"
   ]
  },
  {
   "cell_type": "markdown",
   "metadata": {},
   "source": [
    "Parse through the response to get the details you want for the bike stations in that city (latitude, longitude, number of bikes). "
   ]
  },
  {
   "cell_type": "code",
   "execution_count": 30,
   "metadata": {},
   "outputs": [],
   "source": [
    "\n",
    "fortworth_bike_stations = get_bike_stations(\"toronto\")\n",
    "if fortworth_bike_stations:\n",
    "    df = pd.DataFrame(fortworth_bike_stations)\n",
    "\n",
    "\n",
    "    # print(df[['name', 'latitude', 'longitude', 'free_bikes']])"
   ]
  },
  {
   "cell_type": "markdown",
   "metadata": {},
   "source": [
    "Put your parsed results into a DataFrame."
   ]
  },
  {
   "cell_type": "code",
   "execution_count": 23,
   "metadata": {},
   "outputs": [],
   "source": [
    "import requests\n",
    "import logging\n",
    "import pandas as pd\n",
    "\n",
    "def get_bike_stations(city):\n",
    "    try:\n",
    "        url = f\"http://api.citybik.es/v2/networks/{city}\"\n",
    "        response = requests.get(url)\n",
    "        response.raise_for_status()\n",
    "        data = response.json()\n",
    "        bike_stations = data.get('network', {}).get('stations', [])\n",
    "        return bike_stations\n",
    "    except requests.exceptions.RequestException as e:\n",
    "        logging.error(f\"Error occurred during API request: {e}\")\n",
    "\n",
    "def create_dataframe(bike_stations):\n",
    "    columns = ['Name', 'Latitude', 'Longitude', 'Free Bikes']\n",
    "    data = []\n",
    "\n",
    "    for station in bike_stations:\n",
    "        row = {\n",
    "            'Name': station.get('name'),\n",
    "            'Latitude': station.get('latitude'),\n",
    "            'Longitude': station.get('longitude'),\n",
    "            'Free Bikes': station.get('free_bikes'),\n",
    "        }\n",
    "        data.append(row)\n",
    "\n",
    "    df = pd.DataFrame(data, columns=columns)\n",
    "    return df\n",
    "\n",
    "toronto_bike_stations = get_bike_stations(\"toronto\")\n",
    "if toronto_bike_stations:\n",
    "    first_20_stations = toronto_bike_stations[:20]\n",
    "    bike_stations_df = create_dataframe(first_20_stations)\n",
    "    # print(bike_stations_df)\n",
    "\n"
   ]
  },
  {
   "cell_type": "markdown",
   "metadata": {},
   "source": [
    "\n"
   ]
  },
  {
   "cell_type": "markdown",
   "metadata": {},
   "source": [
    "For each bike station, use the API to call the latitude, longitude and number of bikes.\n"
   ]
  },
  {
   "cell_type": "code",
   "execution_count": 41,
   "metadata": {},
   "outputs": [],
   "source": [
    "import requests\n",
    "import logging\n",
    "\n",
    "def get_bike_stations(city):\n",
    "    try:\n",
    "        url = f\"http://api.citybik.es/v2/networks/{city}\"\n",
    "        response = requests.get(url)\n",
    "        response.raise_for_status()\n",
    "        data = response.json()\n",
    "        bike_stations = data.get('network', {}).get('stations', [])\n",
    "        return bike_stations\n",
    "    except requests.exceptions.RequestException as e:\n",
    "        logging.error(f\"Error occurred during API request: {e}\")\n",
    "\n",
    "def print_bike_station_info(station):\n",
    "    print(f\"Station Name: {station.get('name')}\")\n",
    "    print(f\"Latitude: {station.get('latitude')}\")\n",
    "    print(f\"Longitude: {station.get('longitude')}\")\n",
    "    print(f\"Number of Bikes: {station.get('free_bikes')}\")\n",
    "    print(\"\")\n",
    "\n",
    "toronto_bike_stations = get_bike_stations(\"toronto\")\n",
    "if fortworth_bike_stations:\n",
    "    first_20_stations = toronto_bike_stations[::]\n",
    "\n",
    "# # #     print(\"First 20 bike stations:\")\n",
    "#     for station in first_20_stations:\n",
    "#         print_bike_station_info(station)\n",
    "torontobikes_df = pd.DataFrame(toronto_bike_stations)\n",
    "torontobikes_df.to_csv('/Users/habeelabdi/Desktop/LL/torontobikes_data.csv', index=False)\n",
    "\n",
    "# torontobikes_df"
   ]
  },
  {
   "cell_type": "code",
   "execution_count": null,
   "metadata": {},
   "outputs": [],
   "source": []
  }
 ],
 "metadata": {
  "kernelspec": {
   "display_name": "Python 3 (ipykernel)",
   "language": "python",
   "name": "python3"
  },
  "language_info": {
   "codemirror_mode": {
    "name": "ipython",
    "version": 3
   },
   "file_extension": ".py",
   "mimetype": "text/x-python",
   "name": "python",
   "nbconvert_exporter": "python",
   "pygments_lexer": "ipython3",
   "version": "3.11.5"
  }
 },
 "nbformat": 4,
 "nbformat_minor": 4
}
