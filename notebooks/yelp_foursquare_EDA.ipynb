{
 "cells": [
  {
   "cell_type": "code",
   "execution_count": 119,
   "metadata": {},
   "outputs": [],
   "source": [
    "import requests\n",
    "from apiconfig import foursquare_api\n"
   ]
  },
  {
   "cell_type": "markdown",
   "metadata": {},
   "source": [
    "# Foursquare"
   ]
  },
  {
   "cell_type": "markdown",
   "metadata": {},
   "source": [
    "Send a request to Foursquare with a small radius (1000m) for all the bike stations in your city of choice. "
   ]
  },
  {
   "cell_type": "code",
   "execution_count": 191,
   "metadata": {
    "tags": []
   },
   "outputs": [],
   "source": [
    "import pandas as pd\n",
    "import requests\n",
    "import os  # Don't forget to import the os module\n",
    "\n",
    "def retrieve_places_data(query, ll, radius, sort):\n",
    "    url = 'https://api.foursquare.com/v3/places/search'\n",
    "    params = {\n",
    "        'query': query,\n",
    "        'll': ll,\n",
    "        'radius': radius,\n",
    "        'sort': sort\n",
    "    }\n",
    "    fsq_api_key = os.environ[\"API_KEY\"]\n",
    "\n",
    "    headers = {\n",
    "        \"accept\": \"application/json\",\n",
    "        \"Authorization\": f\"{fsq_api_key}\"\n",
    "    }\n",
    "\n",
    "    response = requests.get(url, params=params, headers=headers)\n",
    "    data = response.json()\n",
    "    places_data = data.get('results', [])\n",
    "    return places_data\n",
    "\n",
    "sort_parameter = 'distance'\n",
    "\n",
    "bike_data = retrieve_places_data('bike share', '43.66,-79.31', 1000, sort_parameter)\n",
    "\n",
    "bike_df = pd.DataFrame(bike_data)\n",
    "# bike_df = bike_df.set_index(\"fsq_id\") \n",
    "\n",
    "# print(bike_df)\n",
    "# bike_df\n"
   ]
  },
  {
   "cell_type": "markdown",
   "metadata": {},
   "source": [
    "Parse through the response to get the POI (such as restaurants, bars, etc) details you want (ratings, name, location, etc)"
   ]
  },
  {
   "cell_type": "code",
   "execution_count": 192,
   "metadata": {
    "tags": []
   },
   "outputs": [
    {
     "data": {
      "text/html": [
       "<div>\n",
       "<style scoped>\n",
       "    .dataframe tbody tr th:only-of-type {\n",
       "        vertical-align: middle;\n",
       "    }\n",
       "\n",
       "    .dataframe tbody tr th {\n",
       "        vertical-align: top;\n",
       "    }\n",
       "\n",
       "    .dataframe thead th {\n",
       "        text-align: right;\n",
       "    }\n",
       "</style>\n",
       "<table border=\"1\" class=\"dataframe\">\n",
       "  <thead>\n",
       "    <tr style=\"text-align: right;\">\n",
       "      <th></th>\n",
       "      <th>fsq_id</th>\n",
       "      <th>categories</th>\n",
       "      <th>chains</th>\n",
       "      <th>closed_bucket</th>\n",
       "      <th>distance</th>\n",
       "      <th>geocodes</th>\n",
       "      <th>link</th>\n",
       "      <th>location</th>\n",
       "      <th>name</th>\n",
       "      <th>related_places</th>\n",
       "      <th>timezone</th>\n",
       "    </tr>\n",
       "  </thead>\n",
       "  <tbody>\n",
       "    <tr>\n",
       "      <th>0</th>\n",
       "      <td>4fd52f42e4b0b916eb02ab1b</td>\n",
       "      <td>[{'id': 13064, 'name': 'Pizzeria', 'short_name...</td>\n",
       "      <td>[]</td>\n",
       "      <td>LikelyOpen</td>\n",
       "      <td>913</td>\n",
       "      <td>{'drop_off': {'latitude': 43.666686, 'longitud...</td>\n",
       "      <td>/v3/places/4fd52f42e4b0b916eb02ab1b</td>\n",
       "      <td>{'address': '6 Coxwell Ave', 'country': 'CA', ...</td>\n",
       "      <td>O Sushi</td>\n",
       "      <td>{}</td>\n",
       "      <td>America/Toronto</td>\n",
       "    </tr>\n",
       "    <tr>\n",
       "      <th>1</th>\n",
       "      <td>4c1169396e5dc9b61b10b02d</td>\n",
       "      <td>[{'id': 13031, 'name': 'Burger Joint', 'short_...</td>\n",
       "      <td>[]</td>\n",
       "      <td>VeryLikelyOpen</td>\n",
       "      <td>871</td>\n",
       "      <td>{'main': {'latitude': 43.666763, 'longitude': ...</td>\n",
       "      <td>/v3/places/4c1169396e5dc9b61b10b02d</td>\n",
       "      <td>{'address': '1636 Queen St E', 'country': 'CA'...</td>\n",
       "      <td>The Burger's Priest</td>\n",
       "      <td>{}</td>\n",
       "      <td>America/Toronto</td>\n",
       "    </tr>\n",
       "    <tr>\n",
       "      <th>2</th>\n",
       "      <td>4ba0153bf964a520995837e3</td>\n",
       "      <td>[{'id': 13064, 'name': 'Pizzeria', 'short_name...</td>\n",
       "      <td>[]</td>\n",
       "      <td>VeryLikelyOpen</td>\n",
       "      <td>848</td>\n",
       "      <td>{'main': {'latitude': 43.666794, 'longitude': ...</td>\n",
       "      <td>/v3/places/4ba0153bf964a520995837e3</td>\n",
       "      <td>{'address': '1646 Queen St E', 'country': 'CA'...</td>\n",
       "      <td>Casa Di Giorgios</td>\n",
       "      <td>{}</td>\n",
       "      <td>America/Toronto</td>\n",
       "    </tr>\n",
       "    <tr>\n",
       "      <th>3</th>\n",
       "      <td>504d2a68e4b04dcd186bf203</td>\n",
       "      <td>[{'id': 13305, 'name': 'Burrito Restaurant', '...</td>\n",
       "      <td>[]</td>\n",
       "      <td>LikelyOpen</td>\n",
       "      <td>884</td>\n",
       "      <td>{'main': {'latitude': 43.666486, 'longitude': ...</td>\n",
       "      <td>/v3/places/504d2a68e4b04dcd186bf203</td>\n",
       "      <td>{'address': '1614 Queen St E', 'country': 'CA'...</td>\n",
       "      <td>Burrito Bandidos</td>\n",
       "      <td>{}</td>\n",
       "      <td>America/Toronto</td>\n",
       "    </tr>\n",
       "    <tr>\n",
       "      <th>4</th>\n",
       "      <td>4b1b0a31f964a520ebf623e3</td>\n",
       "      <td>[{'id': 13065, 'name': 'Restaurant', 'short_na...</td>\n",
       "      <td>[{'id': 'd5774a30-d890-0132-61d3-7a163eb2a6fc'...</td>\n",
       "      <td>VeryLikelyOpen</td>\n",
       "      <td>834</td>\n",
       "      <td>{'main': {'latitude': 43.666527, 'longitude': ...</td>\n",
       "      <td>/v3/places/4b1b0a31f964a520ebf623e3</td>\n",
       "      <td>{'address': '1641 Queen St E', 'country': 'CA'...</td>\n",
       "      <td>Harvey's</td>\n",
       "      <td>{}</td>\n",
       "      <td>America/Toronto</td>\n",
       "    </tr>\n",
       "    <tr>\n",
       "      <th>5</th>\n",
       "      <td>4b4d2e7bf964a52089cd26e3</td>\n",
       "      <td>[{'id': 13039, 'name': 'Deli', 'short_name': '...</td>\n",
       "      <td>[{'id': 'ab4bee40-d68a-012e-5619-003048cad9da'...</td>\n",
       "      <td>VeryLikelyOpen</td>\n",
       "      <td>873</td>\n",
       "      <td>{'main': {'latitude': 43.666113, 'longitude': ...</td>\n",
       "      <td>/v3/places/4b4d2e7bf964a52089cd26e3</td>\n",
       "      <td>{'address': '1599 Queen St E', 'country': 'CA'...</td>\n",
       "      <td>Subway</td>\n",
       "      <td>{}</td>\n",
       "      <td>America/Toronto</td>\n",
       "    </tr>\n",
       "    <tr>\n",
       "      <th>6</th>\n",
       "      <td>4bcb77ed3740b71366966265</td>\n",
       "      <td>[{'id': 13064, 'name': 'Pizzeria', 'short_name...</td>\n",
       "      <td>[{'id': 'd5740d80-d890-0132-61d3-7a163eb2a6fc'...</td>\n",
       "      <td>Unsure</td>\n",
       "      <td>283</td>\n",
       "      <td>{'main': {'latitude': 43.662575, 'longitude': ...</td>\n",
       "      <td>/v3/places/4bcb77ed3740b71366966265</td>\n",
       "      <td>{'address': '1771 W Lake Shore Blvd', 'country...</td>\n",
       "      <td>Pizza Pizza</td>\n",
       "      <td>{}</td>\n",
       "      <td>America/Toronto</td>\n",
       "    </tr>\n",
       "    <tr>\n",
       "      <th>7</th>\n",
       "      <td>4ad4c05ff964a5200ff720e3</td>\n",
       "      <td>[{'id': 13027, 'name': 'Bistro', 'short_name':...</td>\n",
       "      <td>[]</td>\n",
       "      <td>VeryLikelyOpen</td>\n",
       "      <td>967</td>\n",
       "      <td>{'drop_off': {'latitude': 43.66845, 'longitude...</td>\n",
       "      <td>/v3/places/4ad4c05ff964a5200ff720e3</td>\n",
       "      <td>{'address': '1862 Queen St E', 'country': 'CA'...</td>\n",
       "      <td>Sauvignon Bistro &amp; Bakery Inc</td>\n",
       "      <td>{}</td>\n",
       "      <td>America/Toronto</td>\n",
       "    </tr>\n",
       "    <tr>\n",
       "      <th>8</th>\n",
       "      <td>4b65b9f1f964a520fefb2ae3</td>\n",
       "      <td>[{'id': 13031, 'name': 'Burger Joint', 'short_...</td>\n",
       "      <td>[{'id': 'ab4a3530-d68a-012e-5619-003048cad9da'...</td>\n",
       "      <td>VeryLikelyOpen</td>\n",
       "      <td>920</td>\n",
       "      <td>{'main': {'latitude': 43.665065, 'longitude': ...</td>\n",
       "      <td>/v3/places/4b65b9f1f964a520fefb2ae3</td>\n",
       "      <td>{'address': '31 Woodward Ave', 'address_extend...</td>\n",
       "      <td>McDonald's</td>\n",
       "      <td>{}</td>\n",
       "      <td>America/Toronto</td>\n",
       "    </tr>\n",
       "    <tr>\n",
       "      <th>9</th>\n",
       "      <td>60280caaaa745f79d2f50e15</td>\n",
       "      <td>[{'id': 13034, 'name': 'Café', 'short_name': '...</td>\n",
       "      <td>[]</td>\n",
       "      <td>VeryLikelyOpen</td>\n",
       "      <td>860</td>\n",
       "      <td>{'drop_off': {'latitude': 43.666544, 'longitud...</td>\n",
       "      <td>/v3/places/60280caaaa745f79d2f50e15</td>\n",
       "      <td>{'address': '1636 Queen St E', 'country': 'CA'...</td>\n",
       "      <td>Simple Coffee</td>\n",
       "      <td>{}</td>\n",
       "      <td>America/Toronto</td>\n",
       "    </tr>\n",
       "  </tbody>\n",
       "</table>\n",
       "</div>"
      ],
      "text/plain": [
       "                     fsq_id  \\\n",
       "0  4fd52f42e4b0b916eb02ab1b   \n",
       "1  4c1169396e5dc9b61b10b02d   \n",
       "2  4ba0153bf964a520995837e3   \n",
       "3  504d2a68e4b04dcd186bf203   \n",
       "4  4b1b0a31f964a520ebf623e3   \n",
       "5  4b4d2e7bf964a52089cd26e3   \n",
       "6  4bcb77ed3740b71366966265   \n",
       "7  4ad4c05ff964a5200ff720e3   \n",
       "8  4b65b9f1f964a520fefb2ae3   \n",
       "9  60280caaaa745f79d2f50e15   \n",
       "\n",
       "                                          categories  \\\n",
       "0  [{'id': 13064, 'name': 'Pizzeria', 'short_name...   \n",
       "1  [{'id': 13031, 'name': 'Burger Joint', 'short_...   \n",
       "2  [{'id': 13064, 'name': 'Pizzeria', 'short_name...   \n",
       "3  [{'id': 13305, 'name': 'Burrito Restaurant', '...   \n",
       "4  [{'id': 13065, 'name': 'Restaurant', 'short_na...   \n",
       "5  [{'id': 13039, 'name': 'Deli', 'short_name': '...   \n",
       "6  [{'id': 13064, 'name': 'Pizzeria', 'short_name...   \n",
       "7  [{'id': 13027, 'name': 'Bistro', 'short_name':...   \n",
       "8  [{'id': 13031, 'name': 'Burger Joint', 'short_...   \n",
       "9  [{'id': 13034, 'name': 'Café', 'short_name': '...   \n",
       "\n",
       "                                              chains   closed_bucket  \\\n",
       "0                                                 []      LikelyOpen   \n",
       "1                                                 []  VeryLikelyOpen   \n",
       "2                                                 []  VeryLikelyOpen   \n",
       "3                                                 []      LikelyOpen   \n",
       "4  [{'id': 'd5774a30-d890-0132-61d3-7a163eb2a6fc'...  VeryLikelyOpen   \n",
       "5  [{'id': 'ab4bee40-d68a-012e-5619-003048cad9da'...  VeryLikelyOpen   \n",
       "6  [{'id': 'd5740d80-d890-0132-61d3-7a163eb2a6fc'...          Unsure   \n",
       "7                                                 []  VeryLikelyOpen   \n",
       "8  [{'id': 'ab4a3530-d68a-012e-5619-003048cad9da'...  VeryLikelyOpen   \n",
       "9                                                 []  VeryLikelyOpen   \n",
       "\n",
       "   distance                                           geocodes  \\\n",
       "0       913  {'drop_off': {'latitude': 43.666686, 'longitud...   \n",
       "1       871  {'main': {'latitude': 43.666763, 'longitude': ...   \n",
       "2       848  {'main': {'latitude': 43.666794, 'longitude': ...   \n",
       "3       884  {'main': {'latitude': 43.666486, 'longitude': ...   \n",
       "4       834  {'main': {'latitude': 43.666527, 'longitude': ...   \n",
       "5       873  {'main': {'latitude': 43.666113, 'longitude': ...   \n",
       "6       283  {'main': {'latitude': 43.662575, 'longitude': ...   \n",
       "7       967  {'drop_off': {'latitude': 43.66845, 'longitude...   \n",
       "8       920  {'main': {'latitude': 43.665065, 'longitude': ...   \n",
       "9       860  {'drop_off': {'latitude': 43.666544, 'longitud...   \n",
       "\n",
       "                                  link  \\\n",
       "0  /v3/places/4fd52f42e4b0b916eb02ab1b   \n",
       "1  /v3/places/4c1169396e5dc9b61b10b02d   \n",
       "2  /v3/places/4ba0153bf964a520995837e3   \n",
       "3  /v3/places/504d2a68e4b04dcd186bf203   \n",
       "4  /v3/places/4b1b0a31f964a520ebf623e3   \n",
       "5  /v3/places/4b4d2e7bf964a52089cd26e3   \n",
       "6  /v3/places/4bcb77ed3740b71366966265   \n",
       "7  /v3/places/4ad4c05ff964a5200ff720e3   \n",
       "8  /v3/places/4b65b9f1f964a520fefb2ae3   \n",
       "9  /v3/places/60280caaaa745f79d2f50e15   \n",
       "\n",
       "                                            location  \\\n",
       "0  {'address': '6 Coxwell Ave', 'country': 'CA', ...   \n",
       "1  {'address': '1636 Queen St E', 'country': 'CA'...   \n",
       "2  {'address': '1646 Queen St E', 'country': 'CA'...   \n",
       "3  {'address': '1614 Queen St E', 'country': 'CA'...   \n",
       "4  {'address': '1641 Queen St E', 'country': 'CA'...   \n",
       "5  {'address': '1599 Queen St E', 'country': 'CA'...   \n",
       "6  {'address': '1771 W Lake Shore Blvd', 'country...   \n",
       "7  {'address': '1862 Queen St E', 'country': 'CA'...   \n",
       "8  {'address': '31 Woodward Ave', 'address_extend...   \n",
       "9  {'address': '1636 Queen St E', 'country': 'CA'...   \n",
       "\n",
       "                            name related_places         timezone  \n",
       "0                        O Sushi             {}  America/Toronto  \n",
       "1            The Burger's Priest             {}  America/Toronto  \n",
       "2               Casa Di Giorgios             {}  America/Toronto  \n",
       "3               Burrito Bandidos             {}  America/Toronto  \n",
       "4                       Harvey's             {}  America/Toronto  \n",
       "5                         Subway             {}  America/Toronto  \n",
       "6                    Pizza Pizza             {}  America/Toronto  \n",
       "7  Sauvignon Bistro & Bakery Inc             {}  America/Toronto  \n",
       "8                     McDonald's             {}  America/Toronto  \n",
       "9                  Simple Coffee             {}  America/Toronto  "
      ]
     },
     "execution_count": 192,
     "metadata": {},
     "output_type": "execute_result"
    }
   ],
   "source": [
    "import pandas as pd\n",
    "import requests\n",
    "\n",
    "def retrieve_places_data(query, ll, radius, sort):\n",
    "    url = 'https://api.foursquare.com/v3/places/search'\n",
    "    params = {\n",
    "        'query': query,\n",
    "        'll': ll,\n",
    "        'radius': radius,\n",
    "        'sort': sort\n",
    "    }\n",
    "    fsq_api_key = os.environ[\"API_KEY\"]\n",
    "\n",
    "    headers = {\n",
    "        \"accept\": \"application/json\",\n",
    "        \"Authorization\": f\"{fsq_api_key}\"\n",
    "    }\n",
    "\n",
    "    response = requests.get(url, params=params, headers=headers)\n",
    "    data = response.json()\n",
    "    places_data = data.get('results', [])\n",
    "    return places_data\n",
    "sort_parameter = 'rating'\n",
    "\n",
    "restaurant_data = retrieve_places_data('restaurant', '43.66,-79.31', 1000, sort_parameter)\n",
    "\n",
    "restaurant_df = pd.DataFrame(restaurant_data)\n",
    "# restaurant_df = restaurant_df.set_index(\"fsq_id\") \n",
    "\n",
    "# print(restaurant_df)\n",
    "\n",
    "restaurant_df.head(10)"
   ]
  },
  {
   "cell_type": "markdown",
   "metadata": {},
   "source": [
    "Put your parsed results into a DataFrame"
   ]
  },
  {
   "cell_type": "code",
   "execution_count": 157,
   "metadata": {
    "tags": []
   },
   "outputs": [],
   "source": [
    "# coffee_df.head()"
   ]
  },
  {
   "cell_type": "code",
   "execution_count": 158,
   "metadata": {
    "tags": []
   },
   "outputs": [],
   "source": [
    "# restaurant_df.head()"
   ]
  },
  {
   "cell_type": "code",
   "execution_count": 159,
   "metadata": {
    "tags": []
   },
   "outputs": [],
   "source": [
    "# bike_df.head()"
   ]
  },
  {
   "cell_type": "code",
   "execution_count": 164,
   "metadata": {},
   "outputs": [],
   "source": [
    "\n",
    "import pandas as pd\n",
    "\n",
    "# Assuming you have coffee_df, restaurant_df, and bike_df defined earlier\n",
    "\n",
    "mergedfoursquare_df = pd.concat([coffee_df, restaurant_df, bike_df], ignore_index=True).drop_duplicates(subset=\"fsq_id\")\n",
    "# display(mergedfoursquare_df)\n",
    "\n",
    "# final_merged_df = pd.merge(merged_df, bike_df, on='name', how='inner', suffixes=('_coffee', '_restaurant'))\n",
    "# \n",
    "# mergedfoursqaure_df.to_csv('/Users/habeelabdi/Desktop/LL/LL 2/ mergedfoursqaure.csv', index=False)\n",
    "# mergedfoursqaure_df\n",
    "# print(combined_df)\n",
    "# foursquarecombined_df"
   ]
  },
  {
   "cell_type": "markdown",
   "metadata": {},
   "source": [
    "# Yelp"
   ]
  },
  {
   "cell_type": "markdown",
   "metadata": {},
   "source": [
    "Send a request to Yelp with a small radius (1000m) for all the bike stations in your city of choice. "
   ]
  },
  {
   "cell_type": "code",
   "execution_count": 196,
   "metadata": {},
   "outputs": [],
   "source": [
    "import requests\n",
    "import pandas as pd\n",
    "\n",
    "url = 'https://api.yelp.com/v3/businesses/search'\n",
    "params = {\n",
    "    'location': 'toronto',\n",
    "    'latitude': 43.66,\n",
    "    'longitude': -79.31,\n",
    "    'term': 'coffee',\n",
    "    'radius': 1000,\n",
    "    'categories': '',\n",
    "    'sort_by': 'best_match',\n",
    "    'limit': 20,\n",
    "}\n",
    "\n",
    "fsq_api_key = os.environ[\"API_KEY\"]\n",
    "\n",
    "headers = {\n",
    "        \"accept\": \"application/json\",\n",
    "        \"Authorization\": f\"{fsq_api_key}\"\n",
    "}\n",
    "\n",
    "response = requests.get(url, params=params, headers=headers)\n",
    "data_2 = response.json()\n",
    "# print(data_2)\n",
    "yelpcoffee_df = pd.json_normalize(data_2['businesses'])\n",
    "# yelpcoffee_df"
   ]
  },
  {
   "cell_type": "markdown",
   "metadata": {},
   "source": [
    "Parse through the response to get the POI (such as restaurants, bars, etc) details you want (ratings, name, location, etc)"
   ]
  },
  {
   "cell_type": "code",
   "execution_count": 198,
   "metadata": {},
   "outputs": [],
   "source": [
    "import requests\n",
    "import pandas as pd\n",
    "\n",
    "url = 'https://api.yelp.com/v3/businesses/search'\n",
    "params = {\n",
    "    'location': 'toronto',\n",
    "    'latitude': 43.66,\n",
    "    'longitude': -79.31,\n",
    "    'term': 'restaurant',\n",
    "    'radius': 1000,\n",
    "    'categories': '',\n",
    "    'sort_by': 'rating',\n",
    "    'limit': 20,\n",
    "}\n",
    "\n",
    "fsq_api_key = os.environ[\"API_KEY\"]\n",
    "\n",
    "headers = {\n",
    "        \"accept\": \"application/json\",\n",
    "        \"Authorization\": f\"{fsq_api_key}\"\n",
    "}\n",
    "\n",
    "response = requests.get(url, params=params, headers=headers)\n",
    "data_3 = response.json()\n",
    "# print(data_3)\n",
    "yelprestaurant_df = pd.json_normalize(data_3['businesses'])\n",
    "\n",
    "# yelprestaurant_df.head(10)"
   ]
  },
  {
   "cell_type": "markdown",
   "metadata": {},
   "source": [
    "Put your parsed results into a DataFrame"
   ]
  },
  {
   "cell_type": "code",
   "execution_count": 169,
   "metadata": {
    "tags": []
   },
   "outputs": [],
   "source": [
    "import pandas as pd\n",
    "\n",
    "yelpcombined1_df = pd.concat([yelprestaurant_df, yelpcoffee_df], ignore_index=True)\n",
    "yelpcombined_df1 = yelpcombined_df.drop_duplicates(subset='name')\n",
    "\n",
    "# yelpcombined1_df.to_csv('/Users/habeelabdi/Desktop/LL/LL 2/yelp_data1.csv', index=False)\n",
    "# yelpcombined1_df"
   ]
  },
  {
   "cell_type": "markdown",
   "metadata": {},
   "source": [
    "# Comparing Results"
   ]
  },
  {
   "cell_type": "markdown",
   "metadata": {},
   "source": [
    "Which API provided you with more complete data? Provide an explanation. "
   ]
  },
  {
   "cell_type": "markdown",
   "metadata": {},
   "source": [
    " - yelp api gave far more information, along with much more accurate data in comparision to foursquare for retaurant information. \n",
    " - foursqaure did provide better information regaring bikestaions for the desired area in toronto, but that could very much be due to the api specificallly not having a very populated db of bike stations on yelp as its not the primary use; hence resturants being far more complete on yelp. "
   ]
  },
  {
   "cell_type": "markdown",
   "metadata": {},
   "source": [
    "Get the top 10 restaurants according to their rating"
   ]
  },
  {
   "cell_type": "code",
   "execution_count": 444,
   "metadata": {},
   "outputs": [],
   "source": [
    "# yelprestaurant_df.head(10)"
   ]
  }
 ],
 "metadata": {
  "kernelspec": {
   "display_name": "Python 3 (ipykernel)",
   "language": "python",
   "name": "python3"
  },
  "language_info": {
   "codemirror_mode": {
    "name": "ipython",
    "version": 3
   },
   "file_extension": ".py",
   "mimetype": "text/x-python",
   "name": "python",
   "nbconvert_exporter": "python",
   "pygments_lexer": "ipython3",
   "version": "3.11.5"
  }
 },
 "nbformat": 4,
 "nbformat_minor": 4
}
